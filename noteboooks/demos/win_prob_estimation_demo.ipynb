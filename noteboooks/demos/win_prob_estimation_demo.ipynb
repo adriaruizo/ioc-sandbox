{
 "cells": [
  {
   "cell_type": "code",
   "execution_count": 5,
   "metadata": {},
   "outputs": [],
   "source": [
    "import sys\n",
    "sys.path.insert(0, '../..')\n",
    "\n",
    "%load_ext autoreload\n",
    "%autoreload 2"
   ]
  },
  {
   "cell_type": "markdown",
   "metadata": {},
   "source": [
    "# Use case data loading"
   ]
  },
  {
   "cell_type": "code",
   "execution_count": 6,
   "metadata": {},
   "outputs": [
    {
     "name": "stderr",
     "output_type": "stream",
     "text": [
      "2024-02-22 13:32:51 INFO     Loading benchmark dataset 0 from domain adexchange...\n",
      "2024-02-22 13:32:51 INFO     Loading train split...\n",
      "2024-02-22 13:32:53 INFO     Loading val split...\n",
      "2024-02-22 13:32:54 INFO     Loading test split...\n"
     ]
    },
    {
     "name": "stdout",
     "output_type": "stream",
     "text": [
      "train: Num samples: 3645377\n",
      "val: Num samples: 1013292\n",
      "test: Num samples: 269894\n"
     ]
    },
    {
     "data": {
      "text/html": [
       "<div>\n",
       "<style scoped>\n",
       "    .dataframe tbody tr th:only-of-type {\n",
       "        vertical-align: middle;\n",
       "    }\n",
       "\n",
       "    .dataframe tbody tr th {\n",
       "        vertical-align: top;\n",
       "    }\n",
       "\n",
       "    .dataframe thead th {\n",
       "        text-align: right;\n",
       "    }\n",
       "</style>\n",
       "<table border=\"1\" class=\"dataframe\">\n",
       "  <thead>\n",
       "    <tr style=\"text-align: right;\">\n",
       "      <th></th>\n",
       "      <th>hour</th>\n",
       "      <th>is_weekend</th>\n",
       "      <th>country_coincidence</th>\n",
       "      <th>has_cookie</th>\n",
       "      <th>dsp_price</th>\n",
       "      <th>bid_price</th>\n",
       "      <th>nb_bids</th>\n",
       "      <th>nb_wins</th>\n",
       "      <th>publisher_token</th>\n",
       "      <th>placement</th>\n",
       "      <th>publisher_country</th>\n",
       "    </tr>\n",
       "  </thead>\n",
       "  <tbody>\n",
       "    <tr>\n",
       "      <th>0</th>\n",
       "      <td>2</td>\n",
       "      <td>False</td>\n",
       "      <td>True</td>\n",
       "      <td>False</td>\n",
       "      <td>0.14</td>\n",
       "      <td>0.10</td>\n",
       "      <td>1.0</td>\n",
       "      <td>0.0</td>\n",
       "      <td>9965-2636-01</td>\n",
       "      <td>inArticle</td>\n",
       "      <td>US</td>\n",
       "    </tr>\n",
       "    <tr>\n",
       "      <th>1</th>\n",
       "      <td>2</td>\n",
       "      <td>False</td>\n",
       "      <td>True</td>\n",
       "      <td>False</td>\n",
       "      <td>0.15</td>\n",
       "      <td>0.10</td>\n",
       "      <td>3.0</td>\n",
       "      <td>0.0</td>\n",
       "      <td>9965-2636-01</td>\n",
       "      <td>inArticle</td>\n",
       "      <td>US</td>\n",
       "    </tr>\n",
       "    <tr>\n",
       "      <th>2</th>\n",
       "      <td>20</td>\n",
       "      <td>False</td>\n",
       "      <td>True</td>\n",
       "      <td>False</td>\n",
       "      <td>0.10</td>\n",
       "      <td>0.07</td>\n",
       "      <td>8.0</td>\n",
       "      <td>0.0</td>\n",
       "      <td>9965-2636-01</td>\n",
       "      <td>inArticle</td>\n",
       "      <td>US</td>\n",
       "    </tr>\n",
       "    <tr>\n",
       "      <th>3</th>\n",
       "      <td>20</td>\n",
       "      <td>False</td>\n",
       "      <td>True</td>\n",
       "      <td>True</td>\n",
       "      <td>0.74</td>\n",
       "      <td>0.35</td>\n",
       "      <td>3.0</td>\n",
       "      <td>0.0</td>\n",
       "      <td>9965-2636-01</td>\n",
       "      <td>inArticle</td>\n",
       "      <td>US</td>\n",
       "    </tr>\n",
       "    <tr>\n",
       "      <th>4</th>\n",
       "      <td>2</td>\n",
       "      <td>False</td>\n",
       "      <td>False</td>\n",
       "      <td>True</td>\n",
       "      <td>0.16</td>\n",
       "      <td>0.12</td>\n",
       "      <td>1.0</td>\n",
       "      <td>0.0</td>\n",
       "      <td>9965-2636-01</td>\n",
       "      <td>inArticle</td>\n",
       "      <td>US</td>\n",
       "    </tr>\n",
       "  </tbody>\n",
       "</table>\n",
       "</div>"
      ],
      "text/plain": [
       "   hour  is_weekend  country_coincidence  has_cookie  dsp_price  bid_price  \\\n",
       "0     2       False                 True       False       0.14       0.10   \n",
       "1     2       False                 True       False       0.15       0.10   \n",
       "2    20       False                 True       False       0.10       0.07   \n",
       "3    20       False                 True        True       0.74       0.35   \n",
       "4     2       False                False        True       0.16       0.12   \n",
       "\n",
       "   nb_bids  nb_wins publisher_token  placement publisher_country  \n",
       "0      1.0      0.0    9965-2636-01  inArticle                US  \n",
       "1      3.0      0.0    9965-2636-01  inArticle                US  \n",
       "2      8.0      0.0    9965-2636-01  inArticle                US  \n",
       "3      3.0      0.0    9965-2636-01  inArticle                US  \n",
       "4      1.0      0.0    9965-2636-01  inArticle                US  "
      ]
     },
     "execution_count": 6,
     "metadata": {},
     "output_type": "execute_result"
    }
   ],
   "source": [
    "from src.use_cases import WinProbEstimation\n",
    "\n",
    "use_case = WinProbEstimation()\n",
    "domain = 'adexchange'\n",
    "benchmark_id = '0'\n",
    "datasets = use_case.load_benchmark_dataset(domain=domain,benchmark_id=benchmark_id)\n",
    "for split, dataset in datasets.items():\n",
    "    print(f'{split}: Num samples: {len(dataset)}')\n",
    "datasets['train'].head()\n",
    "    "
   ]
  },
  {
   "cell_type": "code",
   "execution_count": 17,
   "metadata": {},
   "outputs": [
    {
     "ename": "ValueError",
     "evalue": "Mime type rendering requires nbformat>=4.2.0 but it is not installed",
     "output_type": "error",
     "traceback": [
      "\u001b[0;31m---------------------------------------------------------------------------\u001b[0m",
      "\u001b[0;31mValueError\u001b[0m                                Traceback (most recent call last)",
      "File \u001b[0;32m~/.local/lib/python3.10/site-packages/IPython/core/formatters.py:920\u001b[0m, in \u001b[0;36mIPythonDisplayFormatter.__call__\u001b[0;34m(self, obj)\u001b[0m\n\u001b[1;32m    918\u001b[0m method \u001b[39m=\u001b[39m get_real_method(obj, \u001b[39mself\u001b[39m\u001b[39m.\u001b[39mprint_method)\n\u001b[1;32m    919\u001b[0m \u001b[39mif\u001b[39;00m method \u001b[39mis\u001b[39;00m \u001b[39mnot\u001b[39;00m \u001b[39mNone\u001b[39;00m:\n\u001b[0;32m--> 920\u001b[0m     method()\n\u001b[1;32m    921\u001b[0m     \u001b[39mreturn\u001b[39;00m \u001b[39mTrue\u001b[39;00m\n",
      "File \u001b[0;32m~/miniconda3/envs/ioc-sandbox/lib/python3.10/site-packages/plotly/basedatatypes.py:832\u001b[0m, in \u001b[0;36mBaseFigure._ipython_display_\u001b[0;34m(self)\u001b[0m\n\u001b[1;32m    829\u001b[0m \u001b[39mimport\u001b[39;00m \u001b[39mplotly\u001b[39;00m\u001b[39m.\u001b[39;00m\u001b[39mio\u001b[39;00m \u001b[39mas\u001b[39;00m \u001b[39mpio\u001b[39;00m\n\u001b[1;32m    831\u001b[0m \u001b[39mif\u001b[39;00m pio\u001b[39m.\u001b[39mrenderers\u001b[39m.\u001b[39mrender_on_display \u001b[39mand\u001b[39;00m pio\u001b[39m.\u001b[39mrenderers\u001b[39m.\u001b[39mdefault:\n\u001b[0;32m--> 832\u001b[0m     pio\u001b[39m.\u001b[39;49mshow(\u001b[39mself\u001b[39;49m)\n\u001b[1;32m    833\u001b[0m \u001b[39melse\u001b[39;00m:\n\u001b[1;32m    834\u001b[0m     \u001b[39mprint\u001b[39m(\u001b[39mrepr\u001b[39m(\u001b[39mself\u001b[39m))\n",
      "File \u001b[0;32m~/miniconda3/envs/ioc-sandbox/lib/python3.10/site-packages/plotly/io/_renderers.py:394\u001b[0m, in \u001b[0;36mshow\u001b[0;34m(fig, renderer, validate, **kwargs)\u001b[0m\n\u001b[1;32m    389\u001b[0m         \u001b[39mraise\u001b[39;00m \u001b[39mValueError\u001b[39;00m(\n\u001b[1;32m    390\u001b[0m             \u001b[39m\"\u001b[39m\u001b[39mMime type rendering requires ipython but it is not installed\u001b[39m\u001b[39m\"\u001b[39m\n\u001b[1;32m    391\u001b[0m         )\n\u001b[1;32m    393\u001b[0m     \u001b[39mif\u001b[39;00m \u001b[39mnot\u001b[39;00m nbformat \u001b[39mor\u001b[39;00m Version(nbformat\u001b[39m.\u001b[39m__version__) \u001b[39m<\u001b[39m Version(\u001b[39m\"\u001b[39m\u001b[39m4.2.0\u001b[39m\u001b[39m\"\u001b[39m):\n\u001b[0;32m--> 394\u001b[0m         \u001b[39mraise\u001b[39;00m \u001b[39mValueError\u001b[39;00m(\n\u001b[1;32m    395\u001b[0m             \u001b[39m\"\u001b[39m\u001b[39mMime type rendering requires nbformat>=4.2.0 but it is not installed\u001b[39m\u001b[39m\"\u001b[39m\n\u001b[1;32m    396\u001b[0m         )\n\u001b[1;32m    398\u001b[0m     ipython_display\u001b[39m.\u001b[39mdisplay(bundle, raw\u001b[39m=\u001b[39m\u001b[39mTrue\u001b[39;00m)\n\u001b[1;32m    400\u001b[0m \u001b[39m# external renderers\u001b[39;00m\n",
      "\u001b[0;31mValueError\u001b[0m: Mime type rendering requires nbformat>=4.2.0 but it is not installed"
     ]
    },
    {
     "data": {
      "application/vnd.plotly.v1+json": {
       "config": {
        "plotlyServerURL": "https://plot.ly"
       },
       "data": [
        {
         "alignmentgroup": "True",
         "bingroup": "x",
         "cumulative": {
          "enabled": true
         },
         "histnorm": "percent",
         "hovertemplate": "dsp_price=%{x}<br>percent=%{y}<extra></extra>",
         "legendgroup": "",
         "marker": {
          "color": "#636efa",
          "pattern": {
           "shape": ""
          }
         },
         "name": "",
         "offsetgroup": "",
         "orientation": "v",
         "showlegend": false,
         "type": "histogram",
         "x": [
          0.14,
          3.29,
          1.1,
          0.44,
          0.17,
          1.61,
          1.74,
          0.9,
          2.94,
          0.21,
          0.13,
          4.55,
          5.47,
          0.7,
          0.94,
          0.72,
          0.68,
          4,
          1.75,
          4.03,
          13.46,
          1.48,
          3.17,
          3.24,
          0.51,
          1.83,
          0.56,
          3.21,
          1.97,
          0.11,
          0.78,
          0.47,
          3.63,
          5.25,
          1.1,
          0.29,
          0.31,
          1.08,
          0.92,
          2.54,
          1.57,
          2.03,
          2.61,
          5.24,
          3.67,
          1.02,
          0.42,
          1.16,
          5.18,
          1.75,
          1.13,
          4.72,
          0.92,
          1.38,
          0.47,
          7.5,
          7.1,
          0.67,
          0.63,
          14.52,
          1.12,
          1.05,
          2.68,
          2.62,
          3.57,
          2.58,
          0.81,
          1.08,
          1.5,
          1.89,
          1.27,
          1.12,
          1.22,
          3.34,
          1.74,
          0.92,
          1.71,
          0.26,
          2.16,
          7.66,
          1.9,
          3.63,
          7.69,
          0.39,
          1.83,
          0.8,
          1.21,
          0.8,
          0.37,
          19.01,
          0.8,
          1.3,
          4.32,
          0.81,
          2.11,
          0.9,
          0.11,
          8.74,
          6.8,
          13.97,
          1.57,
          8.77,
          1.59,
          5.5,
          0.84,
          3.27,
          3.4,
          1.69,
          1.4,
          4.18,
          0.88,
          2.62,
          3.08,
          4.01,
          1.77,
          2.48,
          0.79,
          0.76,
          0.71,
          1.21,
          2.3,
          1.83,
          2.86,
          3.89,
          1.23,
          7.69,
          0.11,
          0.18,
          4.85,
          3.79,
          4.01,
          4.47,
          0.93,
          4.51,
          0.45,
          2.22,
          0.94,
          1.97,
          1.79,
          0.56,
          5.25,
          0.7,
          1.48,
          5.44,
          2.82,
          1.18,
          2.2,
          1.41,
          4.29,
          2.43,
          0.44,
          0.88,
          1.21,
          3.67,
          0.9,
          0.49,
          1.11,
          0.87,
          3.37,
          1.29,
          2.25,
          0.39,
          3.17,
          1.53,
          3.36,
          14.33,
          0.51,
          4.62,
          0.9,
          2.03,
          0.51,
          6.2,
          13.68,
          4.22,
          3.88,
          0.23,
          1.22,
          9.38,
          0.35,
          1.85,
          4.32,
          2.99,
          5.33,
          0.19,
          1.97,
          0.87,
          3.28,
          0.54,
          2.3,
          2.93,
          2.45,
          3.92,
          0.25,
          1.17,
          0.67,
          0.41,
          2.21,
          1.34,
          6.57,
          0.61,
          7.74,
          1.55,
          2.14,
          0.44,
          4.06,
          1.5,
          2.16,
          3.05,
          0.52,
          3.95,
          2.88,
          2.45,
          1.36,
          4.8,
          2.75,
          0.85,
          3.1,
          4.67,
          0.45,
          1.35,
          0.54,
          1.49,
          0.14,
          15.2,
          0.95,
          0.27,
          6.34,
          1.34,
          0.98,
          1.98,
          2.05,
          32.15,
          7.35,
          0.36,
          1.85,
          2.73,
          0.75,
          0.27,
          3.29,
          4.55,
          5.65,
          0.18,
          0.49,
          0.17,
          13.69,
          0.46,
          2.76,
          2.3,
          0.73,
          3.28,
          0.26,
          0.47,
          0.85,
          0.83,
          4.79,
          0.42,
          1.72,
          0.44,
          0.18,
          2.24,
          1.23,
          1.33,
          1.64,
          5.47,
          10.78,
          1.12,
          1.38,
          0.93,
          0.37,
          11.03,
          0.85,
          5.38,
          21.06,
          1.83,
          9.42,
          5.57,
          3.62,
          0.59,
          2.59,
          3.66,
          0.78,
          2.18,
          6.03,
          1.8,
          33.31,
          0.33,
          2.04,
          3.54,
          3.88,
          4.13,
          1.36,
          2.93,
          1.16,
          2.61,
          2.95,
          0.77,
          0.85,
          0.94,
          1.78,
          61.2,
          11.88,
          1.93,
          4.33,
          0.19,
          8.76,
          3.05,
          7.42,
          1.01,
          0.72,
          0.83,
          0.71,
          0.31,
          1.22,
          0.29,
          0.74,
          1.25,
          0.62,
          0.29,
          1.54,
          0.58,
          1.63,
          0.35,
          0.38,
          0.67,
          1.73,
          0.36,
          0.55,
          1.39,
          0.24,
          1.81,
          0.88,
          0.66,
          0.53,
          1.24,
          1.02,
          0.43,
          0.11,
          1.86,
          0.75,
          2.28,
          0.37,
          0.1,
          0.09,
          0.36,
          2.8,
          0.97,
          4.78,
          0.95,
          0.53,
          2.42,
          5.32,
          0.5,
          1.81,
          1.79,
          5.87,
          0.66,
          1.7,
          2,
          1.37,
          1.77,
          0.56,
          2.04,
          1.73,
          2.61,
          10.17,
          0.11,
          0.28,
          0.21,
          0.48,
          1.8,
          1.61,
          0.16,
          0.11,
          7.19,
          0.38,
          0.97,
          2.76,
          0.4,
          1.91,
          2.11,
          0.3,
          1.17,
          2.31,
          0.26,
          1.44,
          1.84,
          1.64,
          1.79,
          0.93,
          1.97,
          2.74,
          9.22,
          13.58,
          0.32,
          3.06,
          0.87,
          0.1,
          0.25,
          0.36,
          1.7,
          0.11,
          1.98,
          0.18,
          4.15,
          0.31,
          1.39,
          2.48,
          0.29,
          1.08,
          0.34,
          4.47,
          3.87,
          0.27,
          0.1,
          0.74,
          0.64,
          2.95,
          5.38,
          3.34,
          0.1,
          0.67,
          0.12,
          0.23,
          0.55,
          0.36,
          3.92,
          0.92,
          1.18,
          2.33,
          0.23,
          3.86,
          0.5,
          0.38,
          0.46,
          2.47,
          0.13,
          1.76,
          1.31,
          1.06,
          1.1,
          0.39,
          0.24,
          1.32,
          2.94,
          2.12,
          1.49,
          0.61,
          1.77,
          1.71,
          3.32,
          1.3,
          1.45,
          0.14,
          0.65,
          0.83,
          0.81,
          0.12,
          0.19,
          0.4,
          0.1,
          0.28,
          3.64,
          1.51,
          3.07,
          5.58,
          0.09,
          11.67,
          0.93,
          3.04,
          0.66,
          2.2,
          0.63,
          4.41,
          6.32,
          3.2,
          5.15,
          7,
          0.4,
          2.87,
          0.74,
          1.16,
          0.5,
          1.26,
          0.66,
          2.84,
          1.06,
          8.29,
          11.06,
          1.51,
          0.79,
          0.49,
          2.61,
          4.78,
          12.74,
          6.35,
          0.44,
          1.98,
          2.4,
          9.59,
          40.1,
          1.18,
          13.37,
          4.66,
          1.74,
          0.17,
          2.53,
          1.18,
          5.17,
          2.11,
          2.24,
          0.13,
          1.35,
          0.35,
          1.91,
          3.02,
          0.39,
          1.11,
          2.89,
          6.34,
          0.41,
          0.91,
          4.6,
          4.95,
          0.98,
          2.11,
          0.61,
          0.96,
          0.56,
          0.15,
          4.59,
          1.36,
          0.47,
          1.83,
          5.73,
          1.83,
          4.53,
          1.13,
          1.8,
          1.59,
          1.07,
          1.94,
          0.2,
          1.99,
          1.2,
          5.22,
          0.25,
          2.73,
          4.24,
          2.72,
          1.33,
          0.43,
          2.09,
          0.17,
          1.01,
          0.7,
          8.86,
          2.8,
          1.57,
          1.63,
          9.54,
          8.14,
          1.75,
          2.35,
          2.42,
          4.29,
          10.94,
          0.52,
          5.18,
          3.45,
          1.88,
          1.62,
          1.53,
          1.64,
          4.47,
          0.76,
          0.23,
          2.06,
          0.64,
          0.67,
          1.27,
          5.83,
          1.34,
          10.91,
          1.7,
          4.83,
          3.95,
          0.33,
          2.72,
          0.32,
          0.25,
          4.66,
          0.12,
          1.52,
          0.64,
          0.72,
          0.55,
          3.49,
          5.51,
          1.33,
          38.26,
          1.38,
          5.95,
          5.87,
          2.25,
          0.58,
          0.62,
          3.23,
          4.99,
          0.71,
          5.09,
          0.52,
          5.37,
          1.23,
          2.85,
          2.05,
          0.31,
          2.84,
          3.07,
          1.77,
          5.6,
          2.48,
          5.04,
          2.34,
          1.34,
          10.66,
          2.52,
          1.55,
          1.19,
          1.8,
          0.73,
          0.65,
          12.69,
          5.71,
          1.72,
          0.62,
          0.51,
          0.81,
          3.62,
          0.75,
          0.18,
          3.35,
          2.91,
          0.11,
          0.22,
          5.28,
          0.69,
          7.75,
          2.08,
          0.37,
          0.74,
          4.73,
          4.68
         ],
         "xaxis": "x",
         "yaxis": "y"
        }
       ],
       "layout": {
        "barmode": "relative",
        "legend": {
         "tracegroupgap": 0
        },
        "template": {
         "data": {
          "bar": [
           {
            "error_x": {
             "color": "#2a3f5f"
            },
            "error_y": {
             "color": "#2a3f5f"
            },
            "marker": {
             "line": {
              "color": "#E5ECF6",
              "width": 0.5
             },
             "pattern": {
              "fillmode": "overlay",
              "size": 10,
              "solidity": 0.2
             }
            },
            "type": "bar"
           }
          ],
          "barpolar": [
           {
            "marker": {
             "line": {
              "color": "#E5ECF6",
              "width": 0.5
             },
             "pattern": {
              "fillmode": "overlay",
              "size": 10,
              "solidity": 0.2
             }
            },
            "type": "barpolar"
           }
          ],
          "carpet": [
           {
            "aaxis": {
             "endlinecolor": "#2a3f5f",
             "gridcolor": "white",
             "linecolor": "white",
             "minorgridcolor": "white",
             "startlinecolor": "#2a3f5f"
            },
            "baxis": {
             "endlinecolor": "#2a3f5f",
             "gridcolor": "white",
             "linecolor": "white",
             "minorgridcolor": "white",
             "startlinecolor": "#2a3f5f"
            },
            "type": "carpet"
           }
          ],
          "choropleth": [
           {
            "colorbar": {
             "outlinewidth": 0,
             "ticks": ""
            },
            "type": "choropleth"
           }
          ],
          "contour": [
           {
            "colorbar": {
             "outlinewidth": 0,
             "ticks": ""
            },
            "colorscale": [
             [
              0,
              "#0d0887"
             ],
             [
              0.1111111111111111,
              "#46039f"
             ],
             [
              0.2222222222222222,
              "#7201a8"
             ],
             [
              0.3333333333333333,
              "#9c179e"
             ],
             [
              0.4444444444444444,
              "#bd3786"
             ],
             [
              0.5555555555555556,
              "#d8576b"
             ],
             [
              0.6666666666666666,
              "#ed7953"
             ],
             [
              0.7777777777777778,
              "#fb9f3a"
             ],
             [
              0.8888888888888888,
              "#fdca26"
             ],
             [
              1,
              "#f0f921"
             ]
            ],
            "type": "contour"
           }
          ],
          "contourcarpet": [
           {
            "colorbar": {
             "outlinewidth": 0,
             "ticks": ""
            },
            "type": "contourcarpet"
           }
          ],
          "heatmap": [
           {
            "colorbar": {
             "outlinewidth": 0,
             "ticks": ""
            },
            "colorscale": [
             [
              0,
              "#0d0887"
             ],
             [
              0.1111111111111111,
              "#46039f"
             ],
             [
              0.2222222222222222,
              "#7201a8"
             ],
             [
              0.3333333333333333,
              "#9c179e"
             ],
             [
              0.4444444444444444,
              "#bd3786"
             ],
             [
              0.5555555555555556,
              "#d8576b"
             ],
             [
              0.6666666666666666,
              "#ed7953"
             ],
             [
              0.7777777777777778,
              "#fb9f3a"
             ],
             [
              0.8888888888888888,
              "#fdca26"
             ],
             [
              1,
              "#f0f921"
             ]
            ],
            "type": "heatmap"
           }
          ],
          "heatmapgl": [
           {
            "colorbar": {
             "outlinewidth": 0,
             "ticks": ""
            },
            "colorscale": [
             [
              0,
              "#0d0887"
             ],
             [
              0.1111111111111111,
              "#46039f"
             ],
             [
              0.2222222222222222,
              "#7201a8"
             ],
             [
              0.3333333333333333,
              "#9c179e"
             ],
             [
              0.4444444444444444,
              "#bd3786"
             ],
             [
              0.5555555555555556,
              "#d8576b"
             ],
             [
              0.6666666666666666,
              "#ed7953"
             ],
             [
              0.7777777777777778,
              "#fb9f3a"
             ],
             [
              0.8888888888888888,
              "#fdca26"
             ],
             [
              1,
              "#f0f921"
             ]
            ],
            "type": "heatmapgl"
           }
          ],
          "histogram": [
           {
            "marker": {
             "pattern": {
              "fillmode": "overlay",
              "size": 10,
              "solidity": 0.2
             }
            },
            "type": "histogram"
           }
          ],
          "histogram2d": [
           {
            "colorbar": {
             "outlinewidth": 0,
             "ticks": ""
            },
            "colorscale": [
             [
              0,
              "#0d0887"
             ],
             [
              0.1111111111111111,
              "#46039f"
             ],
             [
              0.2222222222222222,
              "#7201a8"
             ],
             [
              0.3333333333333333,
              "#9c179e"
             ],
             [
              0.4444444444444444,
              "#bd3786"
             ],
             [
              0.5555555555555556,
              "#d8576b"
             ],
             [
              0.6666666666666666,
              "#ed7953"
             ],
             [
              0.7777777777777778,
              "#fb9f3a"
             ],
             [
              0.8888888888888888,
              "#fdca26"
             ],
             [
              1,
              "#f0f921"
             ]
            ],
            "type": "histogram2d"
           }
          ],
          "histogram2dcontour": [
           {
            "colorbar": {
             "outlinewidth": 0,
             "ticks": ""
            },
            "colorscale": [
             [
              0,
              "#0d0887"
             ],
             [
              0.1111111111111111,
              "#46039f"
             ],
             [
              0.2222222222222222,
              "#7201a8"
             ],
             [
              0.3333333333333333,
              "#9c179e"
             ],
             [
              0.4444444444444444,
              "#bd3786"
             ],
             [
              0.5555555555555556,
              "#d8576b"
             ],
             [
              0.6666666666666666,
              "#ed7953"
             ],
             [
              0.7777777777777778,
              "#fb9f3a"
             ],
             [
              0.8888888888888888,
              "#fdca26"
             ],
             [
              1,
              "#f0f921"
             ]
            ],
            "type": "histogram2dcontour"
           }
          ],
          "mesh3d": [
           {
            "colorbar": {
             "outlinewidth": 0,
             "ticks": ""
            },
            "type": "mesh3d"
           }
          ],
          "parcoords": [
           {
            "line": {
             "colorbar": {
              "outlinewidth": 0,
              "ticks": ""
             }
            },
            "type": "parcoords"
           }
          ],
          "pie": [
           {
            "automargin": true,
            "type": "pie"
           }
          ],
          "scatter": [
           {
            "fillpattern": {
             "fillmode": "overlay",
             "size": 10,
             "solidity": 0.2
            },
            "type": "scatter"
           }
          ],
          "scatter3d": [
           {
            "line": {
             "colorbar": {
              "outlinewidth": 0,
              "ticks": ""
             }
            },
            "marker": {
             "colorbar": {
              "outlinewidth": 0,
              "ticks": ""
             }
            },
            "type": "scatter3d"
           }
          ],
          "scattercarpet": [
           {
            "marker": {
             "colorbar": {
              "outlinewidth": 0,
              "ticks": ""
             }
            },
            "type": "scattercarpet"
           }
          ],
          "scattergeo": [
           {
            "marker": {
             "colorbar": {
              "outlinewidth": 0,
              "ticks": ""
             }
            },
            "type": "scattergeo"
           }
          ],
          "scattergl": [
           {
            "marker": {
             "colorbar": {
              "outlinewidth": 0,
              "ticks": ""
             }
            },
            "type": "scattergl"
           }
          ],
          "scattermapbox": [
           {
            "marker": {
             "colorbar": {
              "outlinewidth": 0,
              "ticks": ""
             }
            },
            "type": "scattermapbox"
           }
          ],
          "scatterpolar": [
           {
            "marker": {
             "colorbar": {
              "outlinewidth": 0,
              "ticks": ""
             }
            },
            "type": "scatterpolar"
           }
          ],
          "scatterpolargl": [
           {
            "marker": {
             "colorbar": {
              "outlinewidth": 0,
              "ticks": ""
             }
            },
            "type": "scatterpolargl"
           }
          ],
          "scatterternary": [
           {
            "marker": {
             "colorbar": {
              "outlinewidth": 0,
              "ticks": ""
             }
            },
            "type": "scatterternary"
           }
          ],
          "surface": [
           {
            "colorbar": {
             "outlinewidth": 0,
             "ticks": ""
            },
            "colorscale": [
             [
              0,
              "#0d0887"
             ],
             [
              0.1111111111111111,
              "#46039f"
             ],
             [
              0.2222222222222222,
              "#7201a8"
             ],
             [
              0.3333333333333333,
              "#9c179e"
             ],
             [
              0.4444444444444444,
              "#bd3786"
             ],
             [
              0.5555555555555556,
              "#d8576b"
             ],
             [
              0.6666666666666666,
              "#ed7953"
             ],
             [
              0.7777777777777778,
              "#fb9f3a"
             ],
             [
              0.8888888888888888,
              "#fdca26"
             ],
             [
              1,
              "#f0f921"
             ]
            ],
            "type": "surface"
           }
          ],
          "table": [
           {
            "cells": {
             "fill": {
              "color": "#EBF0F8"
             },
             "line": {
              "color": "white"
             }
            },
            "header": {
             "fill": {
              "color": "#C8D4E3"
             },
             "line": {
              "color": "white"
             }
            },
            "type": "table"
           }
          ]
         },
         "layout": {
          "annotationdefaults": {
           "arrowcolor": "#2a3f5f",
           "arrowhead": 0,
           "arrowwidth": 1
          },
          "autotypenumbers": "strict",
          "coloraxis": {
           "colorbar": {
            "outlinewidth": 0,
            "ticks": ""
           }
          },
          "colorscale": {
           "diverging": [
            [
             0,
             "#8e0152"
            ],
            [
             0.1,
             "#c51b7d"
            ],
            [
             0.2,
             "#de77ae"
            ],
            [
             0.3,
             "#f1b6da"
            ],
            [
             0.4,
             "#fde0ef"
            ],
            [
             0.5,
             "#f7f7f7"
            ],
            [
             0.6,
             "#e6f5d0"
            ],
            [
             0.7,
             "#b8e186"
            ],
            [
             0.8,
             "#7fbc41"
            ],
            [
             0.9,
             "#4d9221"
            ],
            [
             1,
             "#276419"
            ]
           ],
           "sequential": [
            [
             0,
             "#0d0887"
            ],
            [
             0.1111111111111111,
             "#46039f"
            ],
            [
             0.2222222222222222,
             "#7201a8"
            ],
            [
             0.3333333333333333,
             "#9c179e"
            ],
            [
             0.4444444444444444,
             "#bd3786"
            ],
            [
             0.5555555555555556,
             "#d8576b"
            ],
            [
             0.6666666666666666,
             "#ed7953"
            ],
            [
             0.7777777777777778,
             "#fb9f3a"
            ],
            [
             0.8888888888888888,
             "#fdca26"
            ],
            [
             1,
             "#f0f921"
            ]
           ],
           "sequentialminus": [
            [
             0,
             "#0d0887"
            ],
            [
             0.1111111111111111,
             "#46039f"
            ],
            [
             0.2222222222222222,
             "#7201a8"
            ],
            [
             0.3333333333333333,
             "#9c179e"
            ],
            [
             0.4444444444444444,
             "#bd3786"
            ],
            [
             0.5555555555555556,
             "#d8576b"
            ],
            [
             0.6666666666666666,
             "#ed7953"
            ],
            [
             0.7777777777777778,
             "#fb9f3a"
            ],
            [
             0.8888888888888888,
             "#fdca26"
            ],
            [
             1,
             "#f0f921"
            ]
           ]
          },
          "colorway": [
           "#636efa",
           "#EF553B",
           "#00cc96",
           "#ab63fa",
           "#FFA15A",
           "#19d3f3",
           "#FF6692",
           "#B6E880",
           "#FF97FF",
           "#FECB52"
          ],
          "font": {
           "color": "#2a3f5f"
          },
          "geo": {
           "bgcolor": "white",
           "lakecolor": "white",
           "landcolor": "#E5ECF6",
           "showlakes": true,
           "showland": true,
           "subunitcolor": "white"
          },
          "hoverlabel": {
           "align": "left"
          },
          "hovermode": "closest",
          "mapbox": {
           "style": "light"
          },
          "paper_bgcolor": "white",
          "plot_bgcolor": "#E5ECF6",
          "polar": {
           "angularaxis": {
            "gridcolor": "white",
            "linecolor": "white",
            "ticks": ""
           },
           "bgcolor": "#E5ECF6",
           "radialaxis": {
            "gridcolor": "white",
            "linecolor": "white",
            "ticks": ""
           }
          },
          "scene": {
           "xaxis": {
            "backgroundcolor": "#E5ECF6",
            "gridcolor": "white",
            "gridwidth": 2,
            "linecolor": "white",
            "showbackground": true,
            "ticks": "",
            "zerolinecolor": "white"
           },
           "yaxis": {
            "backgroundcolor": "#E5ECF6",
            "gridcolor": "white",
            "gridwidth": 2,
            "linecolor": "white",
            "showbackground": true,
            "ticks": "",
            "zerolinecolor": "white"
           },
           "zaxis": {
            "backgroundcolor": "#E5ECF6",
            "gridcolor": "white",
            "gridwidth": 2,
            "linecolor": "white",
            "showbackground": true,
            "ticks": "",
            "zerolinecolor": "white"
           }
          },
          "shapedefaults": {
           "line": {
            "color": "#2a3f5f"
           }
          },
          "ternary": {
           "aaxis": {
            "gridcolor": "white",
            "linecolor": "white",
            "ticks": ""
           },
           "baxis": {
            "gridcolor": "white",
            "linecolor": "white",
            "ticks": ""
           },
           "bgcolor": "#E5ECF6",
           "caxis": {
            "gridcolor": "white",
            "linecolor": "white",
            "ticks": ""
           }
          },
          "title": {
           "x": 0.05
          },
          "xaxis": {
           "automargin": true,
           "gridcolor": "white",
           "linecolor": "white",
           "ticks": "",
           "title": {
            "standoff": 15
           },
           "zerolinecolor": "white",
           "zerolinewidth": 2
          },
          "yaxis": {
           "automargin": true,
           "gridcolor": "white",
           "linecolor": "white",
           "ticks": "",
           "title": {
            "standoff": 15
           },
           "zerolinecolor": "white",
           "zerolinewidth": 2
          }
         }
        },
        "title": {
         "text": "Histogram of y"
        },
        "xaxis": {
         "anchor": "y",
         "domain": [
          0,
          1
         ],
         "title": {
          "text": "dsp_price"
         }
        },
        "yaxis": {
         "anchor": "x",
         "domain": [
          0,
          1
         ],
         "title": {
          "text": "percent"
         }
        }
       }
      },
      "text/html": [
       "<div>                        <script type=\"text/javascript\">window.PlotlyConfig = {MathJaxConfig: 'local'};</script>\n",
       "        <script charset=\"utf-8\" src=\"https://cdn.plot.ly/plotly-2.29.1.min.js\"></script>                <div id=\"4998d244-3b95-45b7-88ff-25fdea56f477\" class=\"plotly-graph-div\" style=\"height:100%; width:100%;\"></div>            <script type=\"text/javascript\">                                    window.PLOTLYENV=window.PLOTLYENV || {};                                    if (document.getElementById(\"4998d244-3b95-45b7-88ff-25fdea56f477\")) {                    Plotly.newPlot(                        \"4998d244-3b95-45b7-88ff-25fdea56f477\",                        [{\"alignmentgroup\":\"True\",\"bingroup\":\"x\",\"cumulative\":{\"enabled\":true},\"histnorm\":\"percent\",\"hovertemplate\":\"dsp_price=%{x}\\u003cbr\\u003epercent=%{y}\\u003cextra\\u003e\\u003c\\u002fextra\\u003e\",\"legendgroup\":\"\",\"marker\":{\"color\":\"#636efa\",\"pattern\":{\"shape\":\"\"}},\"name\":\"\",\"offsetgroup\":\"\",\"orientation\":\"v\",\"showlegend\":false,\"x\":[0.14,3.29,1.1,0.44,0.17,1.61,1.74,0.9,2.94,0.21,0.13,4.55,5.47,0.7,0.94,0.72,0.68,4.0,1.75,4.03,13.46,1.48,3.17,3.24,0.51,1.83,0.56,3.21,1.97,0.11,0.78,0.47,3.63,5.25,1.1,0.29,0.31,1.08,0.92,2.54,1.57,2.03,2.61,5.24,3.67,1.02,0.42,1.16,5.18,1.75,1.13,4.72,0.92,1.38,0.47,7.5,7.1,0.67,0.63,14.52,1.12,1.05,2.68,2.62,3.57,2.58,0.81,1.08,1.5,1.89,1.27,1.12,1.22,3.34,1.74,0.92,1.71,0.26,2.16,7.66,1.9,3.63,7.69,0.39,1.83,0.8,1.21,0.8,0.37,19.01,0.8,1.3,4.32,0.81,2.11,0.9,0.11,8.74,6.8,13.97,1.57,8.77,1.59,5.5,0.84,3.27,3.4,1.69,1.4,4.18,0.88,2.62,3.08,4.01,1.77,2.48,0.79,0.76,0.71,1.21,2.3,1.83,2.86,3.89,1.23,7.69,0.11,0.18,4.85,3.79,4.01,4.47,0.93,4.51,0.45,2.22,0.94,1.97,1.79,0.56,5.25,0.7,1.48,5.44,2.82,1.18,2.2,1.41,4.29,2.43,0.44,0.88,1.21,3.67,0.9,0.49,1.11,0.87,3.37,1.29,2.25,0.39,3.17,1.53,3.36,14.33,0.51,4.62,0.9,2.03,0.51,6.2,13.68,4.22,3.88,0.23,1.22,9.38,0.35,1.85,4.32,2.99,5.33,0.19,1.97,0.87,3.28,0.54,2.3,2.93,2.45,3.92,0.25,1.17,0.67,0.41,2.21,1.34,6.57,0.61,7.74,1.55,2.14,0.44,4.06,1.5,2.16,3.05,0.52,3.95,2.88,2.45,1.36,4.8,2.75,0.85,3.1,4.67,0.45,1.35,0.54,1.49,0.14,15.2,0.95,0.27,6.34,1.34,0.98,1.98,2.05,32.15,7.35,0.36,1.85,2.73,0.75,0.27,3.29,4.55,5.65,0.18,0.49,0.17,13.69,0.46,2.76,2.3,0.73,3.28,0.26,0.47,0.85,0.83,4.79,0.42,1.72,0.44,0.18,2.24,1.23,1.33,1.64,5.47,10.78,1.12,1.38,0.93,0.37,11.03,0.85,5.38,21.06,1.83,9.42,5.57,3.62,0.59,2.59,3.66,0.78,2.18,6.03,1.8,33.31,0.33,2.04,3.54,3.88,4.13,1.36,2.93,1.16,2.61,2.95,0.77,0.85,0.94,1.78,61.2,11.88,1.93,4.33,0.19,8.76,3.05,7.42,1.01,0.72,0.83,0.71,0.31,1.22,0.29,0.74,1.25,0.62,0.29,1.54,0.58,1.63,0.35,0.38,0.67,1.73,0.36,0.55,1.39,0.24,1.81,0.88,0.66,0.53,1.24,1.02,0.43,0.11,1.86,0.75,2.28,0.37,0.1,0.09,0.36,2.8,0.97,4.78,0.95,0.53,2.42,5.32,0.5,1.81,1.79,5.87,0.66,1.7,2.0,1.37,1.77,0.56,2.04,1.73,2.61,10.17,0.11,0.28,0.21,0.48,1.8,1.61,0.16,0.11,7.19,0.38,0.97,2.76,0.4,1.91,2.11,0.3,1.17,2.31,0.26,1.44,1.84,1.64,1.79,0.93,1.97,2.74,9.22,13.58,0.32,3.06,0.87,0.1,0.25,0.36,1.7,0.11,1.98,0.18,4.15,0.31,1.39,2.48,0.29,1.08,0.34,4.47,3.87,0.27,0.1,0.74,0.64,2.95,5.38,3.34,0.1,0.67,0.12,0.23,0.55,0.36,3.92,0.92,1.18,2.33,0.23,3.86,0.5,0.38,0.46,2.47,0.13,1.76,1.31,1.06,1.1,0.39,0.24,1.32,2.94,2.12,1.49,0.61,1.77,1.71,3.32,1.3,1.45,0.14,0.65,0.83,0.81,0.12,0.19,0.4,0.1,0.28,3.64,1.51,3.07,5.58,0.09,11.67,0.93,3.04,0.66,2.2,0.63,4.41,6.32,3.2,5.15,7.0,0.4,2.87,0.74,1.16,0.5,1.26,0.66,2.84,1.06,8.29,11.06,1.51,0.79,0.49,2.61,4.78,12.74,6.35,0.44,1.98,2.4,9.59,40.1,1.18,13.37,4.66,1.74,0.17,2.53,1.18,5.17,2.11,2.24,0.13,1.35,0.35,1.91,3.02,0.39,1.11,2.89,6.34,0.41,0.91,4.6,4.95,0.98,2.11,0.61,0.96,0.56,0.15,4.59,1.36,0.47,1.83,5.73,1.83,4.53,1.13,1.8,1.59,1.07,1.94,0.2,1.99,1.2,5.22,0.25,2.73,4.24,2.72,1.33,0.43,2.09,0.17,1.01,0.7,8.86,2.8,1.57,1.63,9.54,8.14,1.75,2.35,2.42,4.29,10.94,0.52,5.18,3.45,1.88,1.62,1.53,1.64,4.47,0.76,0.23,2.06,0.64,0.67,1.27,5.83,1.34,10.91,1.7,4.83,3.95,0.33,2.72,0.32,0.25,4.66,0.12,1.52,0.64,0.72,0.55,3.49,5.51,1.33,38.26,1.38,5.95,5.87,2.25,0.58,0.62,3.23,4.99,0.71,5.09,0.52,5.37,1.23,2.85,2.05,0.31,2.84,3.07,1.77,5.6,2.48,5.04,2.34,1.34,10.66,2.52,1.55,1.19,1.8,0.73,0.65,12.69,5.71,1.72,0.62,0.51,0.81,3.62,0.75,0.18,3.35,2.91,0.11,0.22,5.28,0.69,7.75,2.08,0.37,0.74,4.73,4.68],\"xaxis\":\"x\",\"yaxis\":\"y\",\"type\":\"histogram\"}],                        {\"template\":{\"data\":{\"histogram2dcontour\":[{\"type\":\"histogram2dcontour\",\"colorbar\":{\"outlinewidth\":0,\"ticks\":\"\"},\"colorscale\":[[0.0,\"#0d0887\"],[0.1111111111111111,\"#46039f\"],[0.2222222222222222,\"#7201a8\"],[0.3333333333333333,\"#9c179e\"],[0.4444444444444444,\"#bd3786\"],[0.5555555555555556,\"#d8576b\"],[0.6666666666666666,\"#ed7953\"],[0.7777777777777778,\"#fb9f3a\"],[0.8888888888888888,\"#fdca26\"],[1.0,\"#f0f921\"]]}],\"choropleth\":[{\"type\":\"choropleth\",\"colorbar\":{\"outlinewidth\":0,\"ticks\":\"\"}}],\"histogram2d\":[{\"type\":\"histogram2d\",\"colorbar\":{\"outlinewidth\":0,\"ticks\":\"\"},\"colorscale\":[[0.0,\"#0d0887\"],[0.1111111111111111,\"#46039f\"],[0.2222222222222222,\"#7201a8\"],[0.3333333333333333,\"#9c179e\"],[0.4444444444444444,\"#bd3786\"],[0.5555555555555556,\"#d8576b\"],[0.6666666666666666,\"#ed7953\"],[0.7777777777777778,\"#fb9f3a\"],[0.8888888888888888,\"#fdca26\"],[1.0,\"#f0f921\"]]}],\"heatmap\":[{\"type\":\"heatmap\",\"colorbar\":{\"outlinewidth\":0,\"ticks\":\"\"},\"colorscale\":[[0.0,\"#0d0887\"],[0.1111111111111111,\"#46039f\"],[0.2222222222222222,\"#7201a8\"],[0.3333333333333333,\"#9c179e\"],[0.4444444444444444,\"#bd3786\"],[0.5555555555555556,\"#d8576b\"],[0.6666666666666666,\"#ed7953\"],[0.7777777777777778,\"#fb9f3a\"],[0.8888888888888888,\"#fdca26\"],[1.0,\"#f0f921\"]]}],\"heatmapgl\":[{\"type\":\"heatmapgl\",\"colorbar\":{\"outlinewidth\":0,\"ticks\":\"\"},\"colorscale\":[[0.0,\"#0d0887\"],[0.1111111111111111,\"#46039f\"],[0.2222222222222222,\"#7201a8\"],[0.3333333333333333,\"#9c179e\"],[0.4444444444444444,\"#bd3786\"],[0.5555555555555556,\"#d8576b\"],[0.6666666666666666,\"#ed7953\"],[0.7777777777777778,\"#fb9f3a\"],[0.8888888888888888,\"#fdca26\"],[1.0,\"#f0f921\"]]}],\"contourcarpet\":[{\"type\":\"contourcarpet\",\"colorbar\":{\"outlinewidth\":0,\"ticks\":\"\"}}],\"contour\":[{\"type\":\"contour\",\"colorbar\":{\"outlinewidth\":0,\"ticks\":\"\"},\"colorscale\":[[0.0,\"#0d0887\"],[0.1111111111111111,\"#46039f\"],[0.2222222222222222,\"#7201a8\"],[0.3333333333333333,\"#9c179e\"],[0.4444444444444444,\"#bd3786\"],[0.5555555555555556,\"#d8576b\"],[0.6666666666666666,\"#ed7953\"],[0.7777777777777778,\"#fb9f3a\"],[0.8888888888888888,\"#fdca26\"],[1.0,\"#f0f921\"]]}],\"surface\":[{\"type\":\"surface\",\"colorbar\":{\"outlinewidth\":0,\"ticks\":\"\"},\"colorscale\":[[0.0,\"#0d0887\"],[0.1111111111111111,\"#46039f\"],[0.2222222222222222,\"#7201a8\"],[0.3333333333333333,\"#9c179e\"],[0.4444444444444444,\"#bd3786\"],[0.5555555555555556,\"#d8576b\"],[0.6666666666666666,\"#ed7953\"],[0.7777777777777778,\"#fb9f3a\"],[0.8888888888888888,\"#fdca26\"],[1.0,\"#f0f921\"]]}],\"mesh3d\":[{\"type\":\"mesh3d\",\"colorbar\":{\"outlinewidth\":0,\"ticks\":\"\"}}],\"scatter\":[{\"fillpattern\":{\"fillmode\":\"overlay\",\"size\":10,\"solidity\":0.2},\"type\":\"scatter\"}],\"parcoords\":[{\"type\":\"parcoords\",\"line\":{\"colorbar\":{\"outlinewidth\":0,\"ticks\":\"\"}}}],\"scatterpolargl\":[{\"type\":\"scatterpolargl\",\"marker\":{\"colorbar\":{\"outlinewidth\":0,\"ticks\":\"\"}}}],\"bar\":[{\"error_x\":{\"color\":\"#2a3f5f\"},\"error_y\":{\"color\":\"#2a3f5f\"},\"marker\":{\"line\":{\"color\":\"#E5ECF6\",\"width\":0.5},\"pattern\":{\"fillmode\":\"overlay\",\"size\":10,\"solidity\":0.2}},\"type\":\"bar\"}],\"scattergeo\":[{\"type\":\"scattergeo\",\"marker\":{\"colorbar\":{\"outlinewidth\":0,\"ticks\":\"\"}}}],\"scatterpolar\":[{\"type\":\"scatterpolar\",\"marker\":{\"colorbar\":{\"outlinewidth\":0,\"ticks\":\"\"}}}],\"histogram\":[{\"marker\":{\"pattern\":{\"fillmode\":\"overlay\",\"size\":10,\"solidity\":0.2}},\"type\":\"histogram\"}],\"scattergl\":[{\"type\":\"scattergl\",\"marker\":{\"colorbar\":{\"outlinewidth\":0,\"ticks\":\"\"}}}],\"scatter3d\":[{\"type\":\"scatter3d\",\"line\":{\"colorbar\":{\"outlinewidth\":0,\"ticks\":\"\"}},\"marker\":{\"colorbar\":{\"outlinewidth\":0,\"ticks\":\"\"}}}],\"scattermapbox\":[{\"type\":\"scattermapbox\",\"marker\":{\"colorbar\":{\"outlinewidth\":0,\"ticks\":\"\"}}}],\"scatterternary\":[{\"type\":\"scatterternary\",\"marker\":{\"colorbar\":{\"outlinewidth\":0,\"ticks\":\"\"}}}],\"scattercarpet\":[{\"type\":\"scattercarpet\",\"marker\":{\"colorbar\":{\"outlinewidth\":0,\"ticks\":\"\"}}}],\"carpet\":[{\"aaxis\":{\"endlinecolor\":\"#2a3f5f\",\"gridcolor\":\"white\",\"linecolor\":\"white\",\"minorgridcolor\":\"white\",\"startlinecolor\":\"#2a3f5f\"},\"baxis\":{\"endlinecolor\":\"#2a3f5f\",\"gridcolor\":\"white\",\"linecolor\":\"white\",\"minorgridcolor\":\"white\",\"startlinecolor\":\"#2a3f5f\"},\"type\":\"carpet\"}],\"table\":[{\"cells\":{\"fill\":{\"color\":\"#EBF0F8\"},\"line\":{\"color\":\"white\"}},\"header\":{\"fill\":{\"color\":\"#C8D4E3\"},\"line\":{\"color\":\"white\"}},\"type\":\"table\"}],\"barpolar\":[{\"marker\":{\"line\":{\"color\":\"#E5ECF6\",\"width\":0.5},\"pattern\":{\"fillmode\":\"overlay\",\"size\":10,\"solidity\":0.2}},\"type\":\"barpolar\"}],\"pie\":[{\"automargin\":true,\"type\":\"pie\"}]},\"layout\":{\"autotypenumbers\":\"strict\",\"colorway\":[\"#636efa\",\"#EF553B\",\"#00cc96\",\"#ab63fa\",\"#FFA15A\",\"#19d3f3\",\"#FF6692\",\"#B6E880\",\"#FF97FF\",\"#FECB52\"],\"font\":{\"color\":\"#2a3f5f\"},\"hovermode\":\"closest\",\"hoverlabel\":{\"align\":\"left\"},\"paper_bgcolor\":\"white\",\"plot_bgcolor\":\"#E5ECF6\",\"polar\":{\"bgcolor\":\"#E5ECF6\",\"angularaxis\":{\"gridcolor\":\"white\",\"linecolor\":\"white\",\"ticks\":\"\"},\"radialaxis\":{\"gridcolor\":\"white\",\"linecolor\":\"white\",\"ticks\":\"\"}},\"ternary\":{\"bgcolor\":\"#E5ECF6\",\"aaxis\":{\"gridcolor\":\"white\",\"linecolor\":\"white\",\"ticks\":\"\"},\"baxis\":{\"gridcolor\":\"white\",\"linecolor\":\"white\",\"ticks\":\"\"},\"caxis\":{\"gridcolor\":\"white\",\"linecolor\":\"white\",\"ticks\":\"\"}},\"coloraxis\":{\"colorbar\":{\"outlinewidth\":0,\"ticks\":\"\"}},\"colorscale\":{\"sequential\":[[0.0,\"#0d0887\"],[0.1111111111111111,\"#46039f\"],[0.2222222222222222,\"#7201a8\"],[0.3333333333333333,\"#9c179e\"],[0.4444444444444444,\"#bd3786\"],[0.5555555555555556,\"#d8576b\"],[0.6666666666666666,\"#ed7953\"],[0.7777777777777778,\"#fb9f3a\"],[0.8888888888888888,\"#fdca26\"],[1.0,\"#f0f921\"]],\"sequentialminus\":[[0.0,\"#0d0887\"],[0.1111111111111111,\"#46039f\"],[0.2222222222222222,\"#7201a8\"],[0.3333333333333333,\"#9c179e\"],[0.4444444444444444,\"#bd3786\"],[0.5555555555555556,\"#d8576b\"],[0.6666666666666666,\"#ed7953\"],[0.7777777777777778,\"#fb9f3a\"],[0.8888888888888888,\"#fdca26\"],[1.0,\"#f0f921\"]],\"diverging\":[[0,\"#8e0152\"],[0.1,\"#c51b7d\"],[0.2,\"#de77ae\"],[0.3,\"#f1b6da\"],[0.4,\"#fde0ef\"],[0.5,\"#f7f7f7\"],[0.6,\"#e6f5d0\"],[0.7,\"#b8e186\"],[0.8,\"#7fbc41\"],[0.9,\"#4d9221\"],[1,\"#276419\"]]},\"xaxis\":{\"gridcolor\":\"white\",\"linecolor\":\"white\",\"ticks\":\"\",\"title\":{\"standoff\":15},\"zerolinecolor\":\"white\",\"automargin\":true,\"zerolinewidth\":2},\"yaxis\":{\"gridcolor\":\"white\",\"linecolor\":\"white\",\"ticks\":\"\",\"title\":{\"standoff\":15},\"zerolinecolor\":\"white\",\"automargin\":true,\"zerolinewidth\":2},\"scene\":{\"xaxis\":{\"backgroundcolor\":\"#E5ECF6\",\"gridcolor\":\"white\",\"linecolor\":\"white\",\"showbackground\":true,\"ticks\":\"\",\"zerolinecolor\":\"white\",\"gridwidth\":2},\"yaxis\":{\"backgroundcolor\":\"#E5ECF6\",\"gridcolor\":\"white\",\"linecolor\":\"white\",\"showbackground\":true,\"ticks\":\"\",\"zerolinecolor\":\"white\",\"gridwidth\":2},\"zaxis\":{\"backgroundcolor\":\"#E5ECF6\",\"gridcolor\":\"white\",\"linecolor\":\"white\",\"showbackground\":true,\"ticks\":\"\",\"zerolinecolor\":\"white\",\"gridwidth\":2}},\"shapedefaults\":{\"line\":{\"color\":\"#2a3f5f\"}},\"annotationdefaults\":{\"arrowcolor\":\"#2a3f5f\",\"arrowhead\":0,\"arrowwidth\":1},\"geo\":{\"bgcolor\":\"white\",\"landcolor\":\"#E5ECF6\",\"subunitcolor\":\"white\",\"showland\":true,\"showlakes\":true,\"lakecolor\":\"white\"},\"title\":{\"x\":0.05},\"mapbox\":{\"style\":\"light\"}}},\"xaxis\":{\"anchor\":\"y\",\"domain\":[0.0,1.0],\"title\":{\"text\":\"dsp_price\"}},\"yaxis\":{\"anchor\":\"x\",\"domain\":[0.0,1.0],\"title\":{\"text\":\"percent\"}},\"legend\":{\"tracegroupgap\":0},\"title\":{\"text\":\"Histogram of y\"},\"barmode\":\"relative\"},                        {\"responsive\": true}                    )                };                            </script>        </div>"
      ],
      "text/plain": [
       "Figure({\n",
       "    'data': [{'alignmentgroup': 'True',\n",
       "              'bingroup': 'x',\n",
       "              'cumulative': {'enabled': True},\n",
       "              'histnorm': 'percent',\n",
       "              'hovertemplate': 'dsp_price=%{x}<br>percent=%{y}<extra></extra>',\n",
       "              'legendgroup': '',\n",
       "              'marker': {'color': '#636efa', 'pattern': {'shape': ''}},\n",
       "              'name': '',\n",
       "              'offsetgroup': '',\n",
       "              'orientation': 'v',\n",
       "              'showlegend': False,\n",
       "              'type': 'histogram',\n",
       "              'x': array([0.14, 3.29, 1.1 , ..., 0.74, 4.73, 4.68]),\n",
       "              'xaxis': 'x',\n",
       "              'yaxis': 'y'}],\n",
       "    'layout': {'barmode': 'relative',\n",
       "               'legend': {'tracegroupgap': 0},\n",
       "               'template': '...',\n",
       "               'title': {'text': 'Histogram of y'},\n",
       "               'xaxis': {'anchor': 'y', 'domain': [0.0, 1.0], 'title': {'text': 'dsp_price'}},\n",
       "               'yaxis': {'anchor': 'x', 'domain': [0.0, 1.0], 'title': {'text': 'percent'}}}\n",
       "})"
      ]
     },
     "execution_count": 17,
     "metadata": {},
     "output_type": "execute_result"
    }
   ],
   "source": [
    "import plotly.express as px\n",
    "\n",
    "country = 'US'\n",
    "dUS = datasets['train'][datasets['train']['publisher_country'] == country]\n",
    "#dES = datasets['train'][datasets['train']['publisher_country'] == country]\n",
    "px.histogram(dUS.iloc[0::1000], cumulative= True, x='dsp_price', title='Histogram of y', histnorm='percent')\n",
    "country = 'US'\n",
    "dUS = datasets['train'][datasets['train']['publisher_country'] == country]\n"
   ]
  },
  {
   "cell_type": "code",
   "execution_count": null,
   "metadata": {},
   "outputs": [
    {
     "data": {
      "text/plain": [
       "98961432.0"
      ]
     },
     "execution_count": 7,
     "metadata": {},
     "output_type": "execute_result"
    }
   ],
   "source": [
    "datasets['train'].nb_bids.sum()"
   ]
  },
  {
   "cell_type": "markdown",
   "metadata": {},
   "source": [
    "# Model Experimentation Pipeline"
   ]
  },
  {
   "cell_type": "markdown",
   "metadata": {},
   "source": [
    "# Pipeline execution"
   ]
  },
  {
   "cell_type": "code",
   "execution_count": 8,
   "metadata": {},
   "outputs": [
    {
     "name": "stderr",
     "output_type": "stream",
     "text": [
      "2024-02-22 12:48:14 INFO     Evaluating model on domain adexchange and benchmark_id 0...\n",
      "2024-02-22 12:48:14 INFO     Logging to MLFlow: True\n",
      "2024-02-22 12:48:14 INFO     Initializing model...\n",
      "2024-02-22 12:48:14 INFO     Setting MLFlow experiment name to toy_use_case\n",
      "2024-02-22 12:48:14 INFO     Loading benchmark dataset 0 from domain adexchange...\n",
      "2024-02-22 12:48:14 INFO     Loading train split...\n"
     ]
    },
    {
     "name": "stdout",
     "output_type": "stream",
     "text": [
      "dummy_model\n"
     ]
    },
    {
     "name": "stderr",
     "output_type": "stream",
     "text": [
      "2024-02-22 12:48:14 INFO     Loading val split...\n",
      "2024-02-22 12:48:15 INFO     Loading test split...\n",
      "2024-02-22 12:48:16 INFO     Fitting model with train and val data\n",
      "2024-02-22 12:48:16 INFO     Making predictions on test data\n",
      "2024-02-22 12:48:16 INFO     Evaluating predictions with use-case metrics...\n"
     ]
    },
    {
     "data": {
      "text/plain": [
       "{'aggregated_l2': 0.3403438302263944}"
      ]
     },
     "execution_count": 8,
     "metadata": {},
     "output_type": "execute_result"
    }
   ],
   "source": [
    "from src.models import DummyModel\n",
    "\n",
    "use_case = ToyUseCase()\n",
    "domain = 'adexchange'\n",
    "benchmark_id = '0'\n",
    "max_model_prob=0.7\n",
    "log_mlflow=True\n",
    "\n",
    "use_case.evaluate(domain, benchmark_id, DummyModel, log_mlflow=log_mlflow, max_prob = max_model_prob)"
   ]
  },
  {
   "cell_type": "code",
   "execution_count": null,
   "metadata": {},
   "outputs": [],
   "source": []
  },
  {
   "cell_type": "code",
   "execution_count": null,
   "metadata": {},
   "outputs": [],
   "source": []
  }
 ],
 "metadata": {
  "kernelspec": {
   "display_name": "bid-price-optimizer",
   "language": "python",
   "name": "python3"
  },
  "language_info": {
   "codemirror_mode": {
    "name": "ipython",
    "version": 3
   },
   "file_extension": ".py",
   "mimetype": "text/x-python",
   "name": "python",
   "nbconvert_exporter": "python",
   "pygments_lexer": "ipython3",
   "version": "3.10.13"
  },
  "orig_nbformat": 4
 },
 "nbformat": 4,
 "nbformat_minor": 2
}
