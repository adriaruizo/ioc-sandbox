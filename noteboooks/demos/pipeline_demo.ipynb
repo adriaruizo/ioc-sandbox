{
 "cells": [
  {
   "cell_type": "code",
   "execution_count": 9,
   "metadata": {},
   "outputs": [
    {
     "name": "stdout",
     "output_type": "stream",
     "text": [
      "The autoreload extension is already loaded. To reload it, use:\n",
      "  %reload_ext autoreload\n"
     ]
    }
   ],
   "source": [
    "import sys\n",
    "sys.path.insert(0, '../..')\n",
    "\n",
    "%load_ext autoreload\n",
    "%autoreload 2"
   ]
  },
  {
   "cell_type": "markdown",
   "metadata": {},
   "source": [
    "# Use case data loading"
   ]
  },
  {
   "cell_type": "code",
   "execution_count": 3,
   "metadata": {},
   "outputs": [
    {
     "name": "stderr",
     "output_type": "stream",
     "text": [
      "2024-02-22 12:41:28 INFO     Loading benchmark dataset 0 from domain adexchange...\n",
      "2024-02-22 12:41:28 INFO     Loading train split...\n",
      "2024-02-22 12:41:29 INFO     Loading val split...\n",
      "2024-02-22 12:41:30 INFO     Loading test split...\n"
     ]
    },
    {
     "name": "stdout",
     "output_type": "stream",
     "text": [
      "train: Num samples: 77760\n",
      "val: Num samples: 77760\n",
      "test: Num samples: 77760\n"
     ]
    },
    {
     "data": {
      "text/html": [
       "<div>\n",
       "<style scoped>\n",
       "    .dataframe tbody tr th:only-of-type {\n",
       "        vertical-align: middle;\n",
       "    }\n",
       "\n",
       "    .dataframe tbody tr th {\n",
       "        vertical-align: top;\n",
       "    }\n",
       "\n",
       "    .dataframe thead th {\n",
       "        text-align: right;\n",
       "    }\n",
       "</style>\n",
       "<table border=\"1\" class=\"dataframe\">\n",
       "  <thead>\n",
       "    <tr style=\"text-align: right;\">\n",
       "      <th></th>\n",
       "      <th>dim1</th>\n",
       "      <th>dim2</th>\n",
       "      <th>dim3</th>\n",
       "      <th>dim4</th>\n",
       "      <th>dim5</th>\n",
       "      <th>price_cpm</th>\n",
       "      <th>n_bids</th>\n",
       "      <th>win_probs</th>\n",
       "      <th>split_n_bids</th>\n",
       "      <th>split_win_probs</th>\n",
       "    </tr>\n",
       "  </thead>\n",
       "  <tbody>\n",
       "    <tr>\n",
       "      <th>0</th>\n",
       "      <td>a</td>\n",
       "      <td>a</td>\n",
       "      <td>a</td>\n",
       "      <td>a</td>\n",
       "      <td>a</td>\n",
       "      <td>0.422222</td>\n",
       "      <td>2656449</td>\n",
       "      <td>0.096679</td>\n",
       "      <td>1326734</td>\n",
       "      <td>0.096589</td>\n",
       "    </tr>\n",
       "    <tr>\n",
       "      <th>1</th>\n",
       "      <td>a</td>\n",
       "      <td>a</td>\n",
       "      <td>a</td>\n",
       "      <td>a</td>\n",
       "      <td>a</td>\n",
       "      <td>2.033333</td>\n",
       "      <td>2608468</td>\n",
       "      <td>0.686906</td>\n",
       "      <td>1304317</td>\n",
       "      <td>0.686962</td>\n",
       "    </tr>\n",
       "    <tr>\n",
       "      <th>2</th>\n",
       "      <td>a</td>\n",
       "      <td>a</td>\n",
       "      <td>a</td>\n",
       "      <td>a</td>\n",
       "      <td>a</td>\n",
       "      <td>1.066667</td>\n",
       "      <td>2160111</td>\n",
       "      <td>0.446435</td>\n",
       "      <td>1080858</td>\n",
       "      <td>0.445998</td>\n",
       "    </tr>\n",
       "    <tr>\n",
       "      <th>3</th>\n",
       "      <td>a</td>\n",
       "      <td>a</td>\n",
       "      <td>a</td>\n",
       "      <td>a</td>\n",
       "      <td>a</td>\n",
       "      <td>2.677778</td>\n",
       "      <td>1890966</td>\n",
       "      <td>0.768976</td>\n",
       "      <td>945795</td>\n",
       "      <td>0.769545</td>\n",
       "    </tr>\n",
       "    <tr>\n",
       "      <th>4</th>\n",
       "      <td>a</td>\n",
       "      <td>a</td>\n",
       "      <td>a</td>\n",
       "      <td>a</td>\n",
       "      <td>a</td>\n",
       "      <td>0.744444</td>\n",
       "      <td>1649464</td>\n",
       "      <td>0.299682</td>\n",
       "      <td>824870</td>\n",
       "      <td>0.300175</td>\n",
       "    </tr>\n",
       "  </tbody>\n",
       "</table>\n",
       "</div>"
      ],
      "text/plain": [
       "  dim1 dim2 dim3 dim4 dim5  price_cpm   n_bids  win_probs  split_n_bids  \\\n",
       "0    a    a    a    a    a   0.422222  2656449   0.096679       1326734   \n",
       "1    a    a    a    a    a   2.033333  2608468   0.686906       1304317   \n",
       "2    a    a    a    a    a   1.066667  2160111   0.446435       1080858   \n",
       "3    a    a    a    a    a   2.677778  1890966   0.768976        945795   \n",
       "4    a    a    a    a    a   0.744444  1649464   0.299682        824870   \n",
       "\n",
       "   split_win_probs  \n",
       "0         0.096589  \n",
       "1         0.686962  \n",
       "2         0.445998  \n",
       "3         0.769545  \n",
       "4         0.300175  "
      ]
     },
     "execution_count": 3,
     "metadata": {},
     "output_type": "execute_result"
    }
   ],
   "source": [
    "from src.use_cases import ToyUseCase\n",
    "\n",
    "use_case = ToyUseCase()\n",
    "domain = 'adexchange'\n",
    "benchmark_id = '0'\n",
    "datasets = use_case.load_benchmark_dataset(domain=domain,benchmark_id=benchmark_id)\n",
    "for split, dataset in datasets.items():\n",
    "    print(f'{split}: Num samples: {len(dataset)}')\n",
    "datasets['train'].head()\n",
    "    "
   ]
  },
  {
   "cell_type": "markdown",
   "metadata": {},
   "source": [
    "# Model Experimentation Pipeline"
   ]
  },
  {
   "cell_type": "markdown",
   "metadata": {},
   "source": [
    "# Pipeline execution"
   ]
  },
  {
   "cell_type": "code",
   "execution_count": 8,
   "metadata": {},
   "outputs": [
    {
     "name": "stderr",
     "output_type": "stream",
     "text": [
      "2024-02-22 12:48:14 INFO     Evaluating model on domain adexchange and benchmark_id 0...\n",
      "2024-02-22 12:48:14 INFO     Logging to MLFlow: True\n",
      "2024-02-22 12:48:14 INFO     Initializing model...\n",
      "2024-02-22 12:48:14 INFO     Setting MLFlow experiment name to toy_use_case\n",
      "2024-02-22 12:48:14 INFO     Loading benchmark dataset 0 from domain adexchange...\n",
      "2024-02-22 12:48:14 INFO     Loading train split...\n"
     ]
    },
    {
     "name": "stdout",
     "output_type": "stream",
     "text": [
      "dummy_model\n"
     ]
    },
    {
     "name": "stderr",
     "output_type": "stream",
     "text": [
      "2024-02-22 12:48:14 INFO     Loading val split...\n",
      "2024-02-22 12:48:15 INFO     Loading test split...\n",
      "2024-02-22 12:48:16 INFO     Fitting model with train and val data\n",
      "2024-02-22 12:48:16 INFO     Making predictions on test data\n",
      "2024-02-22 12:48:16 INFO     Evaluating predictions with use-case metrics...\n"
     ]
    },
    {
     "data": {
      "text/plain": [
       "{'aggregated_l2': 0.3403438302263944}"
      ]
     },
     "execution_count": 8,
     "metadata": {},
     "output_type": "execute_result"
    }
   ],
   "source": [
    "from src.models import DummyModel\n",
    "\n",
    "use_case = ToyUseCase()\n",
    "domain = 'adexchange'\n",
    "benchmark_id = '0'\n",
    "max_model_prob=0.7\n",
    "log_mlflow=True\n",
    "\n",
    "use_case.evaluate(domain, benchmark_id, DummyModel, log_mlflow=log_mlflow, max_prob = max_model_prob)"
   ]
  },
  {
   "cell_type": "code",
   "execution_count": null,
   "metadata": {},
   "outputs": [],
   "source": []
  },
  {
   "cell_type": "code",
   "execution_count": null,
   "metadata": {},
   "outputs": [],
   "source": []
  }
 ],
 "metadata": {
  "kernelspec": {
   "display_name": "bid-price-optimizer",
   "language": "python",
   "name": "python3"
  },
  "language_info": {
   "codemirror_mode": {
    "name": "ipython",
    "version": 3
   },
   "file_extension": ".py",
   "mimetype": "text/x-python",
   "name": "python",
   "nbconvert_exporter": "python",
   "pygments_lexer": "ipython3",
   "version": "3.10.13"
  },
  "orig_nbformat": 4
 },
 "nbformat": 4,
 "nbformat_minor": 2
}
